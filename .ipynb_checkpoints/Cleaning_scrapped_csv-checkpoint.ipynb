{
 "cells": [
  {
   "cell_type": "markdown",
   "id": "b3772ecd",
   "metadata": {},
   "source": [
    "## Cleaning our scrapped Oscar's CSV ## "
   ]
  },
  {
   "cell_type": "code",
   "execution_count": 1,
   "id": "63aef25d",
   "metadata": {},
   "outputs": [
    {
     "name": "stdout",
     "output_type": "stream",
     "text": [
      "/Users/davidusuariocasa/Desktop/Projects/ETL_project/nombre_del_archivo.csv\n"
     ]
    }
   ],
   "source": [
    "import os\n",
    "\n",
    "ruta_csv = os.path.abspath('nombre_del_archivo.csv')\n",
    "print(ruta_csv)"
   ]
  },
  {
   "cell_type": "code",
   "execution_count": 111,
   "id": "ceca46ca",
   "metadata": {},
   "outputs": [],
   "source": [
    "import pandas as pd\n",
    "\n",
    "\n",
    "scrapped = pd.read_csv('/Users/davidusuariocasa/Desktop/Projects/ETL_project/Data/scrapped.csv'\n",
    ")\n"
   ]
  },
  {
   "cell_type": "code",
   "execution_count": 112,
   "id": "6db245c8",
   "metadata": {},
   "outputs": [],
   "source": [
    "scrapped = scrapped.dropna() # First, we remove all columns that contain at least one null value\n",
    "\n",
    "scrapped = scrapped.reset_index() # Now we reset the indexes\n",
    "\n",
    "scrapped = scrapped.drop('index', axis=1) # And finally we remove the column 'index'\n"
   ]
  },
  {
   "cell_type": "markdown",
   "id": "7af96d0d",
   "metadata": {},
   "source": [
    "## Converting our 'duration' column to minutes ##"
   ]
  },
  {
   "cell_type": "code",
   "execution_count": 113,
   "id": "ffc706e3",
   "metadata": {},
   "outputs": [],
   "source": [
    "import re # We import the regex library\n",
    "\n",
    "# We want to convert the values in our 'duration' column to minutes, so we create a function to do so\n",
    "\n",
    "def convert_duration_to_minutes(value): \n",
    "    hours = re.findall(r'\\d+h', value) # we use regex to get all values followed by an 'h' (hours) and store them\n",
    "    minutes = re.findall(r'\\d+min', value) # the same, but with mins\n",
    "\n",
    "    hours = int(hours[0].rstrip('h')) if hours else 0 # If regex finds hours, we take out the 'h' and store the number\n",
    "    minutes = int(minutes[0].rstrip('min')) if minutes else 0 # If regex finds mins, we take 'mins' and store the number\n",
    "\n",
    "    total_minutes = hours * 60 + minutes # since we want everything in mins, we multiply the hours by 60 and add the remaining minutes\n",
    "\n",
    "    return total_minutes # our function returns the total mins\n",
    "\n",
    "\n",
    "\n"
   ]
  },
  {
   "cell_type": "code",
   "execution_count": 114,
   "id": "9cda5052",
   "metadata": {},
   "outputs": [],
   "source": [
    "scrapped['duration'] = scrapped['duration'].apply(convert_duration_to_minutes) # we apply the function to our 'duration' column\n"
   ]
  },
  {
   "cell_type": "markdown",
   "id": "7839beb8",
   "metadata": {},
   "source": [
    "## Changing our 'score' column ## "
   ]
  },
  {
   "cell_type": "code",
   "execution_count": 115,
   "id": "d6daf71c",
   "metadata": {},
   "outputs": [],
   "source": [
    "# We create a function that takes the values from our 'score' column, and just takes the score\n",
    "\n",
    "def clean_rating(value):\n",
    "    parts = value.split('\\n/')\n",
    "    if len(parts) == 2:\n",
    "        return parts[0]\n",
    "    else:\n",
    "        return value\n"
   ]
  },
  {
   "cell_type": "code",
   "execution_count": 116,
   "id": "6222b33d",
   "metadata": {},
   "outputs": [],
   "source": [
    "scrapped['score'] = scrapped['score'].apply(clean_rating) # we apply the function to our 'score' column\n"
   ]
  },
  {
   "cell_type": "markdown",
   "id": "9b00c588",
   "metadata": {},
   "source": [
    "## Changing our 'category' column ## "
   ]
  },
  {
   "cell_type": "code",
   "execution_count": 118,
   "id": "85dd3236",
   "metadata": {},
   "outputs": [],
   "source": [
    "# All the values of our 'category' column are in capital letters. We want them to be in lowercase, so we create a function\n",
    "\n",
    "def capitalize_words(value):\n",
    "    words = value.split()  # Divide the value in words\n",
    "    capitalized_words = []  # List to store the capitalized words\n",
    "\n",
    "    for word in words:\n",
    "        # Capitalize the first letter of each word\n",
    "        capitalized_word = word[0].upper() + word[1:].lower()\n",
    "        capitalized_words.append(capitalized_word)  # Add the capitalized word to our list \n",
    "    # Now we join the capitalized words in a single string\n",
    "    result = ' '.join(capitalized_words)\n",
    "    return result\n",
    "\n"
   ]
  },
  {
   "cell_type": "code",
   "execution_count": 119,
   "id": "4c277961",
   "metadata": {},
   "outputs": [],
   "source": [
    "scrapped['category'] = scrapped['category'].apply(capitalize_words) # we apply the function to our 'category' column\n"
   ]
  },
  {
   "cell_type": "markdown",
   "id": "d6bce448",
   "metadata": {},
   "source": [
    "## Changing our columns names ## \n"
   ]
  },
  {
   "cell_type": "code",
   "execution_count": 124,
   "id": "252b7645",
   "metadata": {},
   "outputs": [],
   "source": [
    "# Finally we replace the values of my columns with the values from the 'new_names' list\n",
    "\n",
    "new_names = ['Film year', 'Ceremony year', 'Ceremony number', 'Winning category', 'Winner name', 'Film title', 'Film Duration', 'Film score']\n",
    "\n",
    "scrapped.columns = new_names\n"
   ]
  },
  {
   "cell_type": "code",
   "execution_count": 125,
   "id": "cb0e20a6",
   "metadata": {},
   "outputs": [
    {
     "data": {
      "text/html": [
       "<div>\n",
       "<style scoped>\n",
       "    .dataframe tbody tr th:only-of-type {\n",
       "        vertical-align: middle;\n",
       "    }\n",
       "\n",
       "    .dataframe tbody tr th {\n",
       "        vertical-align: top;\n",
       "    }\n",
       "\n",
       "    .dataframe thead th {\n",
       "        text-align: right;\n",
       "    }\n",
       "</style>\n",
       "<table border=\"1\" class=\"dataframe\">\n",
       "  <thead>\n",
       "    <tr style=\"text-align: right;\">\n",
       "      <th></th>\n",
       "      <th>Film year</th>\n",
       "      <th>Ceremony year</th>\n",
       "      <th>Ceremony number</th>\n",
       "      <th>Winning category</th>\n",
       "      <th>Winner name</th>\n",
       "      <th>Film title</th>\n",
       "      <th>Film Duration</th>\n",
       "      <th>Film score</th>\n",
       "    </tr>\n",
       "  </thead>\n",
       "  <tbody>\n",
       "    <tr>\n",
       "      <th>0</th>\n",
       "      <td>1927</td>\n",
       "      <td>1928</td>\n",
       "      <td>1</td>\n",
       "      <td>Actor</td>\n",
       "      <td>Emil Jannings</td>\n",
       "      <td>The Last Command</td>\n",
       "      <td>88</td>\n",
       "      <td>8,0</td>\n",
       "    </tr>\n",
       "    <tr>\n",
       "      <th>1</th>\n",
       "      <td>1927</td>\n",
       "      <td>1928</td>\n",
       "      <td>1</td>\n",
       "      <td>Art Direction</td>\n",
       "      <td>William Cameron Menzies</td>\n",
       "      <td>The Dove;</td>\n",
       "      <td>90</td>\n",
       "      <td>6,5</td>\n",
       "    </tr>\n",
       "    <tr>\n",
       "      <th>2</th>\n",
       "      <td>1927</td>\n",
       "      <td>1928</td>\n",
       "      <td>1</td>\n",
       "      <td>Cinematography</td>\n",
       "      <td>Charles Rosher</td>\n",
       "      <td>Sunrise</td>\n",
       "      <td>94</td>\n",
       "      <td>8,1</td>\n",
       "    </tr>\n",
       "    <tr>\n",
       "      <th>3</th>\n",
       "      <td>1927</td>\n",
       "      <td>1928</td>\n",
       "      <td>1</td>\n",
       "      <td>Cinematography</td>\n",
       "      <td>Karl Struss</td>\n",
       "      <td>Sunrise</td>\n",
       "      <td>94</td>\n",
       "      <td>8,1</td>\n",
       "    </tr>\n",
       "    <tr>\n",
       "      <th>4</th>\n",
       "      <td>1927</td>\n",
       "      <td>1928</td>\n",
       "      <td>1</td>\n",
       "      <td>Directing (comedy Picture)</td>\n",
       "      <td>Lewis Milestone</td>\n",
       "      <td>Two Arabian Knights</td>\n",
       "      <td>92</td>\n",
       "      <td>6,7</td>\n",
       "    </tr>\n",
       "    <tr>\n",
       "      <th>...</th>\n",
       "      <td>...</td>\n",
       "      <td>...</td>\n",
       "      <td>...</td>\n",
       "      <td>...</td>\n",
       "      <td>...</td>\n",
       "      <td>...</td>\n",
       "      <td>...</td>\n",
       "      <td>...</td>\n",
       "    </tr>\n",
       "    <tr>\n",
       "      <th>1931</th>\n",
       "      <td>2022</td>\n",
       "      <td>2023</td>\n",
       "      <td>95</td>\n",
       "      <td>Sound</td>\n",
       "      <td>Mark Weingarten, James H. Mather, Al Nelson, C...</td>\n",
       "      <td>Top Gun: Maverick</td>\n",
       "      <td>130</td>\n",
       "      <td>8,3</td>\n",
       "    </tr>\n",
       "    <tr>\n",
       "      <th>1932</th>\n",
       "      <td>2022</td>\n",
       "      <td>2023</td>\n",
       "      <td>95</td>\n",
       "      <td>Visual Effects</td>\n",
       "      <td>Joe Letteri, Richard Baneham, Eric Saindon and...</td>\n",
       "      <td>Avatar: The Way of Water</td>\n",
       "      <td>192</td>\n",
       "      <td>7,6</td>\n",
       "    </tr>\n",
       "    <tr>\n",
       "      <th>1933</th>\n",
       "      <td>2022</td>\n",
       "      <td>2023</td>\n",
       "      <td>95</td>\n",
       "      <td>Writing (adapted Screenplay)</td>\n",
       "      <td>Screenplay by Sarah Polley</td>\n",
       "      <td>Women Talking</td>\n",
       "      <td>104</td>\n",
       "      <td>6,9</td>\n",
       "    </tr>\n",
       "    <tr>\n",
       "      <th>1934</th>\n",
       "      <td>2022</td>\n",
       "      <td>2023</td>\n",
       "      <td>95</td>\n",
       "      <td>Writing (original Screenplay)</td>\n",
       "      <td>Written by Daniel Kwan &amp; Daniel Scheinert</td>\n",
       "      <td>Everything Everywhere All at Once</td>\n",
       "      <td>139</td>\n",
       "      <td>7,8</td>\n",
       "    </tr>\n",
       "    <tr>\n",
       "      <th>1935</th>\n",
       "      <td>2022</td>\n",
       "      <td>2023</td>\n",
       "      <td>95</td>\n",
       "      <td>Award Of Commendation</td>\n",
       "      <td>To Ryan Laney for his innovative adaptation an...</td>\n",
       "      <td>Welcome to Chechnya</td>\n",
       "      <td>107</td>\n",
       "      <td>7,9</td>\n",
       "    </tr>\n",
       "  </tbody>\n",
       "</table>\n",
       "<p>1936 rows × 8 columns</p>\n",
       "</div>"
      ],
      "text/plain": [
       "      Film year  Ceremony year  Ceremony number  \\\n",
       "0          1927           1928                1   \n",
       "1          1927           1928                1   \n",
       "2          1927           1928                1   \n",
       "3          1927           1928                1   \n",
       "4          1927           1928                1   \n",
       "...         ...            ...              ...   \n",
       "1931       2022           2023               95   \n",
       "1932       2022           2023               95   \n",
       "1933       2022           2023               95   \n",
       "1934       2022           2023               95   \n",
       "1935       2022           2023               95   \n",
       "\n",
       "                   Winning category  \\\n",
       "0                             Actor   \n",
       "1                     Art Direction   \n",
       "2                    Cinematography   \n",
       "3                    Cinematography   \n",
       "4        Directing (comedy Picture)   \n",
       "...                             ...   \n",
       "1931                          Sound   \n",
       "1932                 Visual Effects   \n",
       "1933   Writing (adapted Screenplay)   \n",
       "1934  Writing (original Screenplay)   \n",
       "1935          Award Of Commendation   \n",
       "\n",
       "                                            Winner name  \\\n",
       "0                                         Emil Jannings   \n",
       "1                               William Cameron Menzies   \n",
       "2                                        Charles Rosher   \n",
       "3                                           Karl Struss   \n",
       "4                                       Lewis Milestone   \n",
       "...                                                 ...   \n",
       "1931  Mark Weingarten, James H. Mather, Al Nelson, C...   \n",
       "1932  Joe Letteri, Richard Baneham, Eric Saindon and...   \n",
       "1933                         Screenplay by Sarah Polley   \n",
       "1934          Written by Daniel Kwan & Daniel Scheinert   \n",
       "1935  To Ryan Laney for his innovative adaptation an...   \n",
       "\n",
       "                             Film title  Film Duration Film score  \n",
       "0                      The Last Command             88        8,0  \n",
       "1                             The Dove;             90        6,5  \n",
       "2                               Sunrise             94        8,1  \n",
       "3                               Sunrise             94        8,1  \n",
       "4                   Two Arabian Knights             92        6,7  \n",
       "...                                 ...            ...        ...  \n",
       "1931                  Top Gun: Maverick            130        8,3  \n",
       "1932           Avatar: The Way of Water            192        7,6  \n",
       "1933                      Women Talking            104        6,9  \n",
       "1934  Everything Everywhere All at Once            139        7,8  \n",
       "1935                Welcome to Chechnya            107        7,9  \n",
       "\n",
       "[1936 rows x 8 columns]"
      ]
     },
     "execution_count": 125,
     "metadata": {},
     "output_type": "execute_result"
    }
   ],
   "source": [
    "scrapped # This is our final dataframe"
   ]
  },
  {
   "cell_type": "code",
   "execution_count": 122,
   "id": "54992458",
   "metadata": {},
   "outputs": [],
   "source": [
    "scrapped.to_csv('cleaned_scrapped_csv.csv', index=False) # We save our dataframe in CSV format"
   ]
  },
  {
   "cell_type": "code",
   "execution_count": null,
   "id": "3fbcbeaa",
   "metadata": {},
   "outputs": [],
   "source": []
  },
  {
   "cell_type": "code",
   "execution_count": null,
   "id": "fd2651ac",
   "metadata": {},
   "outputs": [],
   "source": []
  },
  {
   "cell_type": "code",
   "execution_count": null,
   "id": "fb81d14b",
   "metadata": {},
   "outputs": [],
   "source": []
  }
 ],
 "metadata": {
  "kernelspec": {
   "display_name": "Python 3 (ipykernel)",
   "language": "python",
   "name": "python3"
  },
  "language_info": {
   "codemirror_mode": {
    "name": "ipython",
    "version": 3
   },
   "file_extension": ".py",
   "mimetype": "text/x-python",
   "name": "python",
   "nbconvert_exporter": "python",
   "pygments_lexer": "ipython3",
   "version": "3.9.13"
  }
 },
 "nbformat": 4,
 "nbformat_minor": 5
}
